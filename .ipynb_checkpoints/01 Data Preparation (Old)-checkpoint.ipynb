{
 "cells": [
  {
   "cell_type": "markdown",
   "metadata": {},
   "source": [
    "# Data Preparation"
   ]
  },
  {
   "cell_type": "code",
   "execution_count": 1,
   "metadata": {},
   "outputs": [],
   "source": [
    "import pandas as pd\n",
    "import json\n",
    "import numpy as np\n",
    "import re\n",
    "import seaborn as sns\n",
    "import pandas.tseries\n",
    "import matplotlib.pyplot as plt\n",
    "from tensorflow.keras.preprocessing.image import ImageDataGenerator, array_to_img, img_to_array, load_img\n",
    "import pickle\n",
    "import tensorflow as tf"
   ]
  },
  {
   "cell_type": "markdown",
   "metadata": {},
   "source": [
    "## I. Reviews and Product Information for Pet Supplies\n",
    "\n",
    "The data is imported and cleaned as follows:\n",
    "1. Import reviews and product information data.\n",
    "2. De-duplicate reviews and product information so there is one review for each product and reviewer.  Do the sam ething for product information data.\n",
    "3. Filter to users and products with price information and enough reviews.\n",
    "4. Generate numeric indices for users and products.\n",
    "5. Export the cleaned data."
   ]
  },
  {
   "cell_type": "markdown",
   "metadata": {},
   "source": [
    "Step 1A. Import reviews and convert them to a Pandas dataframe."
   ]
  },
  {
   "cell_type": "code",
   "execution_count": 2,
   "metadata": {},
   "outputs": [
    {
     "data": {
      "text/html": [
       "<div>\n",
       "<style scoped>\n",
       "    .dataframe tbody tr th:only-of-type {\n",
       "        vertical-align: middle;\n",
       "    }\n",
       "\n",
       "    .dataframe tbody tr th {\n",
       "        vertical-align: top;\n",
       "    }\n",
       "\n",
       "    .dataframe thead th {\n",
       "        text-align: right;\n",
       "    }\n",
       "</style>\n",
       "<table border=\"1\" class=\"dataframe\">\n",
       "  <thead>\n",
       "    <tr style=\"text-align: right;\">\n",
       "      <th></th>\n",
       "      <th>overall</th>\n",
       "      <th>vote</th>\n",
       "      <th>verified</th>\n",
       "      <th>reviewTime</th>\n",
       "      <th>reviewerID</th>\n",
       "      <th>asin</th>\n",
       "      <th>reviewerName</th>\n",
       "      <th>reviewText</th>\n",
       "      <th>summary</th>\n",
       "      <th>unixReviewTime</th>\n",
       "      <th>style</th>\n",
       "      <th>image</th>\n",
       "    </tr>\n",
       "  </thead>\n",
       "  <tbody>\n",
       "    <tr>\n",
       "      <th>0</th>\n",
       "      <td>3.0</td>\n",
       "      <td>5</td>\n",
       "      <td>True</td>\n",
       "      <td>09 27, 2007</td>\n",
       "      <td>A13K4OZKAAHOXS</td>\n",
       "      <td>0972585419</td>\n",
       "      <td>100indecisions</td>\n",
       "      <td>Either my bird can't talk, or it really doesnt...</td>\n",
       "      <td>Still waiting for it to work...</td>\n",
       "      <td>1190851200</td>\n",
       "      <td>NaN</td>\n",
       "      <td>NaN</td>\n",
       "    </tr>\n",
       "    <tr>\n",
       "      <th>1</th>\n",
       "      <td>4.0</td>\n",
       "      <td>6</td>\n",
       "      <td>True</td>\n",
       "      <td>08 25, 2007</td>\n",
       "      <td>A1DWYEX4P7GB7Z</td>\n",
       "      <td>0972585419</td>\n",
       "      <td>J. Weaver</td>\n",
       "      <td>The CD is a good idea for teaching a bird to s...</td>\n",
       "      <td>Feathered Phonics volume 1</td>\n",
       "      <td>1188000000</td>\n",
       "      <td>NaN</td>\n",
       "      <td>NaN</td>\n",
       "    </tr>\n",
       "    <tr>\n",
       "      <th>2</th>\n",
       "      <td>4.0</td>\n",
       "      <td>5</td>\n",
       "      <td>True</td>\n",
       "      <td>02 20, 2007</td>\n",
       "      <td>A3NVN97YJSKEPC</td>\n",
       "      <td>0972585419</td>\n",
       "      <td>Theresa Ehrhardt</td>\n",
       "      <td>good cd to teach birds to talk and learn new w...</td>\n",
       "      <td>bird cd</td>\n",
       "      <td>1171929600</td>\n",
       "      <td>NaN</td>\n",
       "      <td>NaN</td>\n",
       "    </tr>\n",
       "    <tr>\n",
       "      <th>3</th>\n",
       "      <td>1.0</td>\n",
       "      <td>NaN</td>\n",
       "      <td>True</td>\n",
       "      <td>12 30, 2016</td>\n",
       "      <td>A1PDMES1LYA0DP</td>\n",
       "      <td>0972585419</td>\n",
       "      <td>Kathi</td>\n",
       "      <td>I was not happy with product would like to ret...</td>\n",
       "      <td>One Star</td>\n",
       "      <td>1483056000</td>\n",
       "      <td>NaN</td>\n",
       "      <td>NaN</td>\n",
       "    </tr>\n",
       "    <tr>\n",
       "      <th>4</th>\n",
       "      <td>1.0</td>\n",
       "      <td>NaN</td>\n",
       "      <td>True</td>\n",
       "      <td>12 23, 2016</td>\n",
       "      <td>AT6BH0TQLZS5X</td>\n",
       "      <td>0972585419</td>\n",
       "      <td>Alyssa</td>\n",
       "      <td>This cd is scratched and it constantly skips. ...</td>\n",
       "      <td>One Star</td>\n",
       "      <td>1482451200</td>\n",
       "      <td>NaN</td>\n",
       "      <td>NaN</td>\n",
       "    </tr>\n",
       "  </tbody>\n",
       "</table>\n",
       "</div>"
      ],
      "text/plain": [
       "   overall vote  verified   reviewTime      reviewerID        asin  \\\n",
       "0      3.0    5      True  09 27, 2007  A13K4OZKAAHOXS  0972585419   \n",
       "1      4.0    6      True  08 25, 2007  A1DWYEX4P7GB7Z  0972585419   \n",
       "2      4.0    5      True  02 20, 2007  A3NVN97YJSKEPC  0972585419   \n",
       "3      1.0  NaN      True  12 30, 2016  A1PDMES1LYA0DP  0972585419   \n",
       "4      1.0  NaN      True  12 23, 2016   AT6BH0TQLZS5X  0972585419   \n",
       "\n",
       "       reviewerName                                         reviewText  \\\n",
       "0    100indecisions  Either my bird can't talk, or it really doesnt...   \n",
       "1         J. Weaver  The CD is a good idea for teaching a bird to s...   \n",
       "2  Theresa Ehrhardt  good cd to teach birds to talk and learn new w...   \n",
       "3             Kathi  I was not happy with product would like to ret...   \n",
       "4            Alyssa  This cd is scratched and it constantly skips. ...   \n",
       "\n",
       "                           summary  unixReviewTime style image  \n",
       "0  Still waiting for it to work...      1190851200   NaN   NaN  \n",
       "1       Feathered Phonics volume 1      1188000000   NaN   NaN  \n",
       "2                          bird cd      1171929600   NaN   NaN  \n",
       "3                         One Star      1483056000   NaN   NaN  \n",
       "4                         One Star      1482451200   NaN   NaN  "
      ]
     },
     "execution_count": 2,
     "metadata": {},
     "output_type": "execute_result"
    }
   ],
   "source": [
    "with open('Data/Pet_Supplies.json', 'r') as file:\n",
    "    text = file.read().split('\\n')\n",
    "    \n",
    "reviews = []\n",
    "for i in range(len(text) - 1):\n",
    "    reviews.append(json.loads(text[i]))\n",
    "reviews = pd.DataFrame.from_dict(reviews)\n",
    "reviews.head()"
   ]
  },
  {
   "cell_type": "markdown",
   "metadata": {},
   "source": [
    "Step 1B. Import product information and convert it to a Pandas dataframe."
   ]
  },
  {
   "cell_type": "code",
   "execution_count": 3,
   "metadata": {},
   "outputs": [
    {
     "data": {
      "text/html": [
       "<div>\n",
       "<style scoped>\n",
       "    .dataframe tbody tr th:only-of-type {\n",
       "        vertical-align: middle;\n",
       "    }\n",
       "\n",
       "    .dataframe tbody tr th {\n",
       "        vertical-align: top;\n",
       "    }\n",
       "\n",
       "    .dataframe thead th {\n",
       "        text-align: right;\n",
       "    }\n",
       "</style>\n",
       "<table border=\"1\" class=\"dataframe\">\n",
       "  <thead>\n",
       "    <tr style=\"text-align: right;\">\n",
       "      <th></th>\n",
       "      <th>category</th>\n",
       "      <th>tech1</th>\n",
       "      <th>description</th>\n",
       "      <th>fit</th>\n",
       "      <th>title</th>\n",
       "      <th>also_buy</th>\n",
       "      <th>tech2</th>\n",
       "      <th>brand</th>\n",
       "      <th>feature</th>\n",
       "      <th>rank</th>\n",
       "      <th>also_view</th>\n",
       "      <th>main_cat</th>\n",
       "      <th>similar_item</th>\n",
       "      <th>date</th>\n",
       "      <th>price</th>\n",
       "      <th>asin</th>\n",
       "      <th>imageURL</th>\n",
       "      <th>imageURLHighRes</th>\n",
       "      <th>details</th>\n",
       "    </tr>\n",
       "  </thead>\n",
       "  <tbody>\n",
       "    <tr>\n",
       "      <th>0</th>\n",
       "      <td>[Pet Supplies, Dogs, Health Supplies, Hip &amp;amp...</td>\n",
       "      <td></td>\n",
       "      <td>[Dr. Rexy hemp oil has powerful anti-inflammat...</td>\n",
       "      <td></td>\n",
       "      <td>DR.REXY Hemp Oil for Dogs and Cats - 100% Orga...</td>\n",
       "      <td>[]</td>\n",
       "      <td></td>\n",
       "      <td>DR.REXY</td>\n",
       "      <td>[Made strictly with organic derived ingredient...</td>\n",
       "      <td>[&gt;#93,463 in Grocery &amp;amp; Gourmet Food (See T...</td>\n",
       "      <td>[]</td>\n",
       "      <td>Amazon Home</td>\n",
       "      <td></td>\n",
       "      <td></td>\n",
       "      <td>$19.90</td>\n",
       "      <td>061539972X</td>\n",
       "      <td>[https://images-na.ssl-images-amazon.com/image...</td>\n",
       "      <td>[https://images-na.ssl-images-amazon.com/image...</td>\n",
       "      <td>NaN</td>\n",
       "    </tr>\n",
       "    <tr>\n",
       "      <th>1</th>\n",
       "      <td>[Pet Supplies, Dogs]</td>\n",
       "      <td></td>\n",
       "      <td>[Know exactly what your dog is eating with 101...</td>\n",
       "      <td></td>\n",
       "      <td>Pet Qwerks Treat Cookbook with Cutters</td>\n",
       "      <td>[]</td>\n",
       "      <td></td>\n",
       "      <td>Pet Qwerks</td>\n",
       "      <td>[Recipe book, Cookie cutters, Indoor/outdoor use]</td>\n",
       "      <td>190,234 in Pet Supplies (</td>\n",
       "      <td>[B075DYQ1PH, 1604334657, 1604336919, 163026043...</td>\n",
       "      <td>Pet Supplies</td>\n",
       "      <td></td>\n",
       "      <td></td>\n",
       "      <td>$7.86</td>\n",
       "      <td>0615553605</td>\n",
       "      <td>[https://images-na.ssl-images-amazon.com/image...</td>\n",
       "      <td>[https://images-na.ssl-images-amazon.com/image...</td>\n",
       "      <td>NaN</td>\n",
       "    </tr>\n",
       "    <tr>\n",
       "      <th>2</th>\n",
       "      <td>[Pet Supplies, Dogs, Food, Dry]</td>\n",
       "      <td></td>\n",
       "      <td>[, , , ]</td>\n",
       "      <td></td>\n",
       "      <td>The Best of 101 Dog Tricks</td>\n",
       "      <td>[0760339740, 1592533256, 1592535305, 159253730...</td>\n",
       "      <td></td>\n",
       "      <td></td>\n",
       "      <td>[]</td>\n",
       "      <td>76,847 in Movies &amp;amp; TV (</td>\n",
       "      <td>[1592533256, 0760339740, 1592537308, 159253530...</td>\n",
       "      <td>Movies &amp;amp; TV</td>\n",
       "      <td></td>\n",
       "      <td></td>\n",
       "      <td></td>\n",
       "      <td>0760339597</td>\n",
       "      <td>[https://images-na.ssl-images-amazon.com/image...</td>\n",
       "      <td>[https://images-na.ssl-images-amazon.com/image...</td>\n",
       "      <td>NaN</td>\n",
       "    </tr>\n",
       "    <tr>\n",
       "      <th>3</th>\n",
       "      <td>[]</td>\n",
       "      <td></td>\n",
       "      <td>[, The venomous but beautiful scorpionfishes a...</td>\n",
       "      <td></td>\n",
       "      <td>Lionfishes and Other Scorpionfishes: The Compl...</td>\n",
       "      <td>[1911142186, 1514291983]</td>\n",
       "      <td></td>\n",
       "      <td>Tfh/Nylabone</td>\n",
       "      <td>[Used Book in Good Condition]</td>\n",
       "      <td>435,039 in Pet Supplies (</td>\n",
       "      <td>[]</td>\n",
       "      <td>Pet Supplies</td>\n",
       "      <td></td>\n",
       "      <td></td>\n",
       "      <td>$24.99</td>\n",
       "      <td>0793816793</td>\n",
       "      <td>[https://images-na.ssl-images-amazon.com/image...</td>\n",
       "      <td>[https://images-na.ssl-images-amazon.com/image...</td>\n",
       "      <td>NaN</td>\n",
       "    </tr>\n",
       "    <tr>\n",
       "      <th>4</th>\n",
       "      <td>[Pet Supplies, Top Selection from AmazonPets]</td>\n",
       "      <td></td>\n",
       "      <td>[Volume 1: 96 Words &amp;amp; Phrases! This is the...</td>\n",
       "      <td></td>\n",
       "      <td>Pet Media Feathered Phonics The Easy Way To Te...</td>\n",
       "      <td>[B0002FP328, B0002FP32S, B0002FP32I, B00CAMARX...</td>\n",
       "      <td></td>\n",
       "      <td>Pet Media</td>\n",
       "      <td>[Award-winning audio CD teaches parrots how to...</td>\n",
       "      <td>52,435 in Pet Supplies (</td>\n",
       "      <td>[B0002FP328, B00CAMARXG, B0002FP32S, B0013L6CA...</td>\n",
       "      <td>Pet Supplies</td>\n",
       "      <td></td>\n",
       "      <td></td>\n",
       "      <td>$6.97</td>\n",
       "      <td>0972585419</td>\n",
       "      <td>[https://images-na.ssl-images-amazon.com/image...</td>\n",
       "      <td>[https://images-na.ssl-images-amazon.com/image...</td>\n",
       "      <td>NaN</td>\n",
       "    </tr>\n",
       "  </tbody>\n",
       "</table>\n",
       "</div>"
      ],
      "text/plain": [
       "                                            category tech1  \\\n",
       "0  [Pet Supplies, Dogs, Health Supplies, Hip &amp...         \n",
       "1                               [Pet Supplies, Dogs]         \n",
       "2                    [Pet Supplies, Dogs, Food, Dry]         \n",
       "3                                                 []         \n",
       "4      [Pet Supplies, Top Selection from AmazonPets]         \n",
       "\n",
       "                                         description fit  \\\n",
       "0  [Dr. Rexy hemp oil has powerful anti-inflammat...       \n",
       "1  [Know exactly what your dog is eating with 101...       \n",
       "2                                           [, , , ]       \n",
       "3  [, The venomous but beautiful scorpionfishes a...       \n",
       "4  [Volume 1: 96 Words &amp; Phrases! This is the...       \n",
       "\n",
       "                                               title  \\\n",
       "0  DR.REXY Hemp Oil for Dogs and Cats - 100% Orga...   \n",
       "1             Pet Qwerks Treat Cookbook with Cutters   \n",
       "2                         The Best of 101 Dog Tricks   \n",
       "3  Lionfishes and Other Scorpionfishes: The Compl...   \n",
       "4  Pet Media Feathered Phonics The Easy Way To Te...   \n",
       "\n",
       "                                            also_buy tech2         brand  \\\n",
       "0                                                 []             DR.REXY   \n",
       "1                                                 []          Pet Qwerks   \n",
       "2  [0760339740, 1592533256, 1592535305, 159253730...                       \n",
       "3                           [1911142186, 1514291983]        Tfh/Nylabone   \n",
       "4  [B0002FP328, B0002FP32S, B0002FP32I, B00CAMARX...           Pet Media   \n",
       "\n",
       "                                             feature  \\\n",
       "0  [Made strictly with organic derived ingredient...   \n",
       "1  [Recipe book, Cookie cutters, Indoor/outdoor use]   \n",
       "2                                                 []   \n",
       "3                      [Used Book in Good Condition]   \n",
       "4  [Award-winning audio CD teaches parrots how to...   \n",
       "\n",
       "                                                rank  \\\n",
       "0  [>#93,463 in Grocery &amp; Gourmet Food (See T...   \n",
       "1                          190,234 in Pet Supplies (   \n",
       "2                        76,847 in Movies &amp; TV (   \n",
       "3                          435,039 in Pet Supplies (   \n",
       "4                           52,435 in Pet Supplies (   \n",
       "\n",
       "                                           also_view         main_cat  \\\n",
       "0                                                 []      Amazon Home   \n",
       "1  [B075DYQ1PH, 1604334657, 1604336919, 163026043...     Pet Supplies   \n",
       "2  [1592533256, 0760339740, 1592537308, 159253530...  Movies &amp; TV   \n",
       "3                                                 []     Pet Supplies   \n",
       "4  [B0002FP328, B00CAMARXG, B0002FP32S, B0013L6CA...     Pet Supplies   \n",
       "\n",
       "  similar_item date   price        asin  \\\n",
       "0                    $19.90  061539972X   \n",
       "1                     $7.86  0615553605   \n",
       "2                            0760339597   \n",
       "3                    $24.99  0793816793   \n",
       "4                     $6.97  0972585419   \n",
       "\n",
       "                                            imageURL  \\\n",
       "0  [https://images-na.ssl-images-amazon.com/image...   \n",
       "1  [https://images-na.ssl-images-amazon.com/image...   \n",
       "2  [https://images-na.ssl-images-amazon.com/image...   \n",
       "3  [https://images-na.ssl-images-amazon.com/image...   \n",
       "4  [https://images-na.ssl-images-amazon.com/image...   \n",
       "\n",
       "                                     imageURLHighRes details  \n",
       "0  [https://images-na.ssl-images-amazon.com/image...     NaN  \n",
       "1  [https://images-na.ssl-images-amazon.com/image...     NaN  \n",
       "2  [https://images-na.ssl-images-amazon.com/image...     NaN  \n",
       "3  [https://images-na.ssl-images-amazon.com/image...     NaN  \n",
       "4  [https://images-na.ssl-images-amazon.com/image...     NaN  "
      ]
     },
     "execution_count": 3,
     "metadata": {},
     "output_type": "execute_result"
    }
   ],
   "source": [
    "with open('Data/meta_Pet_Supplies.json', 'r') as file:\n",
    "    text = file.read().split('\\n')\n",
    "    \n",
    "meta = []\n",
    "for i in range(len(text) - 1):\n",
    "    meta.append(json.loads(text[i]))\n",
    "meta = pd.DataFrame.from_dict(meta)\n",
    "meta.head()"
   ]
  },
  {
   "cell_type": "markdown",
   "metadata": {},
   "source": [
    "Step 2. Dedup reviews and product information."
   ]
  },
  {
   "cell_type": "code",
   "execution_count": 4,
   "metadata": {},
   "outputs": [],
   "source": [
    "reviews.drop_duplicates(subset = ['asin', 'reviewerID'], inplace = True)\n",
    "meta.drop_duplicates(subset = ['asin'], inplace = True)"
   ]
  },
  {
   "cell_type": "markdown",
   "metadata": {},
   "source": [
    "Step 3. Filter to users and products with a price and enough reviews."
   ]
  },
  {
   "cell_type": "code",
   "execution_count": 5,
   "metadata": {},
   "outputs": [],
   "source": [
    "# Rename the column names\n",
    "reviews1 = reviews[['asin', 'reviewerID', 'overall', 'reviewTime', 'summary', 'vote', 'reviewText']]\n",
    "reviews1.columns = ['itemId', 'userId', 'rating', 'time', 'summary', 'vote', 'reviewText']\n",
    "\n",
    "# Merge reviews and product information\n",
    "reviews2 = reviews1.merge(meta, left_on = 'itemId', right_on = 'asin')\n",
    "\n",
    "# Filter to products with price information\n",
    "reviews2 = reviews2[(reviews2['price'].notnull()) & \n",
    "                    (reviews2['price'].apply(lambda x: re.search('\\\\$', x) is not None))]\n",
    "reviews2['price'] = reviews2['price'].apply(lambda x: float(x.split(' - ')[0].replace('$', '').replace(',', '')))\n",
    "\n",
    "# Filter to items with at least 100 reviews\n",
    "reviews_mult = reviews2.groupby('itemId')['itemId'].count() >= 100\n",
    "reviews_mult = reviews_mult[reviews_mult == True]\n",
    "reviews2 = reviews2[reviews2['itemId'].isin(reviews_mult.index)]\n",
    "\n",
    "# Filter to users with at least 20 reviews\n",
    "reviews_mult = reviews2.groupby('userId')['userId'].count() >= 20\n",
    "reviews_mult = reviews_mult[reviews_mult == True]\n",
    "reviews3 = reviews2[reviews2['userId'].isin(reviews_mult.index)]"
   ]
  },
  {
   "cell_type": "markdown",
   "metadata": {},
   "source": [
    "Step 4. Generate numeric indices for users and products.  These will be used for neural networks later."
   ]
  },
  {
   "cell_type": "code",
   "execution_count": 6,
   "metadata": {},
   "outputs": [
    {
     "name": "stderr",
     "output_type": "stream",
     "text": [
      "<ipython-input-6-144482477e11>:6: SettingWithCopyWarning: \n",
      "A value is trying to be set on a copy of a slice from a DataFrame.\n",
      "Try using .loc[row_indexer,col_indexer] = value instead\n",
      "\n",
      "See the caveats in the documentation: https://pandas.pydata.org/pandas-docs/stable/user_guide/indexing.html#returning-a-view-versus-a-copy\n",
      "  reviews3['userIdNumeric'] = reviews3['userId'].apply(lambda x: userid2idx[x])\n",
      "<ipython-input-6-144482477e11>:7: SettingWithCopyWarning: \n",
      "A value is trying to be set on a copy of a slice from a DataFrame.\n",
      "Try using .loc[row_indexer,col_indexer] = value instead\n",
      "\n",
      "See the caveats in the documentation: https://pandas.pydata.org/pandas-docs/stable/user_guide/indexing.html#returning-a-view-versus-a-copy\n",
      "  reviews3['itemIdNumeric'] = reviews3['itemId'].apply(lambda x: bookid2idx[x])\n"
     ]
    }
   ],
   "source": [
    "users = reviews3['userId'].unique()\n",
    "books = reviews3['itemId'].unique()\n",
    "\n",
    "userid2idx = {o: i for i, o in enumerate(users)}\n",
    "bookid2idx = {o: i for i, o in enumerate(books)}\n",
    "reviews3['userIdNumeric'] = reviews3['userId'].apply(lambda x: userid2idx[x])\n",
    "reviews3['itemIdNumeric'] = reviews3['itemId'].apply(lambda x: bookid2idx[x])"
   ]
  },
  {
   "cell_type": "markdown",
   "metadata": {},
   "source": [
    "Step 5. Export the data for analysis."
   ]
  },
  {
   "cell_type": "code",
   "execution_count": 7,
   "metadata": {},
   "outputs": [],
   "source": [
    "reviews3.to_csv('Data/Data Used for Analysis/Cleaned Reviews for Pet Supplies.csv')"
   ]
  },
  {
   "cell_type": "markdown",
   "metadata": {},
   "source": [
    "## II. Product Images and Information for Shoes\n",
    "\n",
    "The data is imported and cleaned as follows:\n",
    "1. Import product images and information data.\n",
    "2. Filter to product information data for Shoes.\n",
    "3. One-hot encode each product keyword by transposing the product information data.\n",
    "4. Retrieve product images.\n",
    "5. Export the cleaned data."
   ]
  },
  {
   "cell_type": "markdown",
   "metadata": {},
   "source": [
    "Step 1A. Import and combine listings data 0 to 4."
   ]
  },
  {
   "cell_type": "code",
   "execution_count": 8,
   "metadata": {},
   "outputs": [
    {
     "data": {
      "text/plain": [
       "'{\"brand\": [{\"language_tag\": \"nl_NL\", \"value\": \"find.\"}], \"bullet_point\": [{\"language_tag\": \"nl_NL\", \"value\": \"Schoen in Loafer-stijl\"}, {\"language_tag\": \"nl_NL\", \"value\": \"Platform hak\"}, {\"language_tag\": \"nl_NL\", \"value\": \"Cap teen\"}, {\"language_tag\": \"nl_NL\", \"value\": \"Middenhak\"}], \"color\": [{\"language_tag\": \"nl_NL\", \"value\": \"Veelkleurig Vrouw Blauw\"}], \"item_id\": \"B06X9STHNG\", \"item_name\": [{\"language_tag\": \"nl_NL\", \"value\": \"Amazon-merk - vinden. Dames Leder Gesloten Teen Hakken,Veelkleurig Vrouw Blauw,5 UK\"}], \"model_name\": [{\"language_tag\": \"nl_NL\", \"value\": \"37753\"}], \"model_number\": [{\"value\": \"12-05-04\"}], \"model_year\": [{\"value\": 2017}], \"product_type\": [{\"value\": \"SHOES\"}], \"style\": [{\"language_tag\": \"nl_NL\", \"value\": \"Gesloten-teen pompen\"}], \"main_image_id\": \"81iZlv3bjpL\", \"other_image_id\": [\"91mIRxgziUL\", \"91eqBkW06wL\", \"A1BHZSKNbkL\"], \"item_keywords\": [{\"language_tag\": \"nl_NL\", \"value\": \"block heel shoes\"}, {\"language_tag\": \"nl_NL\", \"value\": \"loafer shoes\"}, {\"language_tag\": \"nl_NL\", \"value\": \"loafers\"}, {\"language_tag\": \"nl_NL\", \"value\": \"metallic shoes\"}, {\"language_tag\": \"nl_NL\", \"value\": \"womens block heel shoes\"}, {\"language_tag\": \"nl_NL\", \"value\": \"womens fashion\"}, {\"language_tag\": \"nl_NL\", \"value\": \"womens loafer shoes\"}, {\"language_tag\": \"nl_NL\", \"value\": \"womens loafers\"}, {\"language_tag\": \"nl_NL\", \"value\": \"womens shoes\"}, {\"language_tag\": \"nl_NL\", \"value\": \"womenswear\"}], \"country\": \"NL\", \"marketplace\": \"Amazon\", \"domain_name\": \"amazon.nl\", \"node\": [{\"node_id\": 16391787031, \"node_name\": \"/Categorie\\\\u00ebn/Dames/Schoenen/Pumps\"}]}'"
      ]
     },
     "execution_count": 8,
     "metadata": {},
     "output_type": "execute_result"
    }
   ],
   "source": [
    "with open('Data/Raw Data/listings_0.json', 'r') as file:\n",
    "    text1 = file.read().split('\\n')\n",
    "    \n",
    "with open('Data/Raw Data/listings_1.json', 'r') as file:\n",
    "    text2 = file.read().split('\\n')\n",
    "    \n",
    "with open('Data/Raw Data/listings_2.json', 'r') as file:\n",
    "    text3 = file.read().split('\\n')\n",
    "    \n",
    "with open('Data/Raw Data/listings_3.json', 'r') as file:\n",
    "    text4 = file.read().split('\\n')\n",
    "\n",
    "with open('Data/Raw Data/listings_4.json', 'r') as file:\n",
    "    text5 = file.read().split('\\n')\n",
    "\n",
    "# Combine imported data\n",
    "text = text1 + text2 + text3 + text4 + text5\n",
    "text[0]"
   ]
  },
  {
   "cell_type": "markdown",
   "metadata": {},
   "source": [
    "Step 1B. Import product info data and convert it to a Pandas dataframe."
   ]
  },
  {
   "cell_type": "code",
   "execution_count": 9,
   "metadata": {},
   "outputs": [
    {
     "data": {
      "text/html": [
       "<div>\n",
       "<style scoped>\n",
       "    .dataframe tbody tr th:only-of-type {\n",
       "        vertical-align: middle;\n",
       "    }\n",
       "\n",
       "    .dataframe tbody tr th {\n",
       "        vertical-align: top;\n",
       "    }\n",
       "\n",
       "    .dataframe thead th {\n",
       "        text-align: right;\n",
       "    }\n",
       "</style>\n",
       "<table border=\"1\" class=\"dataframe\">\n",
       "  <thead>\n",
       "    <tr style=\"text-align: right;\">\n",
       "      <th></th>\n",
       "      <th>item_id</th>\n",
       "      <th>product_type</th>\n",
       "      <th>language</th>\n",
       "      <th>main_image_id</th>\n",
       "      <th>item_keywords</th>\n",
       "    </tr>\n",
       "  </thead>\n",
       "  <tbody>\n",
       "    <tr>\n",
       "      <th>0</th>\n",
       "      <td>B06X9STHNG</td>\n",
       "      <td>SHOES</td>\n",
       "      <td>nl_NL</td>\n",
       "      <td>81iZlv3bjpL</td>\n",
       "      <td>block heel shoes</td>\n",
       "    </tr>\n",
       "    <tr>\n",
       "      <th>1</th>\n",
       "      <td>B06X9STHNG</td>\n",
       "      <td>SHOES</td>\n",
       "      <td>nl_NL</td>\n",
       "      <td>81iZlv3bjpL</td>\n",
       "      <td>loafer shoes</td>\n",
       "    </tr>\n",
       "    <tr>\n",
       "      <th>2</th>\n",
       "      <td>B06X9STHNG</td>\n",
       "      <td>SHOES</td>\n",
       "      <td>nl_NL</td>\n",
       "      <td>81iZlv3bjpL</td>\n",
       "      <td>loafers</td>\n",
       "    </tr>\n",
       "    <tr>\n",
       "      <th>3</th>\n",
       "      <td>B06X9STHNG</td>\n",
       "      <td>SHOES</td>\n",
       "      <td>nl_NL</td>\n",
       "      <td>81iZlv3bjpL</td>\n",
       "      <td>metallic shoes</td>\n",
       "    </tr>\n",
       "    <tr>\n",
       "      <th>4</th>\n",
       "      <td>B06X9STHNG</td>\n",
       "      <td>SHOES</td>\n",
       "      <td>nl_NL</td>\n",
       "      <td>81iZlv3bjpL</td>\n",
       "      <td>womens block heel shoes</td>\n",
       "    </tr>\n",
       "  </tbody>\n",
       "</table>\n",
       "</div>"
      ],
      "text/plain": [
       "      item_id product_type language main_image_id            item_keywords\n",
       "0  B06X9STHNG        SHOES    nl_NL   81iZlv3bjpL         block heel shoes\n",
       "1  B06X9STHNG        SHOES    nl_NL   81iZlv3bjpL             loafer shoes\n",
       "2  B06X9STHNG        SHOES    nl_NL   81iZlv3bjpL                  loafers\n",
       "3  B06X9STHNG        SHOES    nl_NL   81iZlv3bjpL           metallic shoes\n",
       "4  B06X9STHNG        SHOES    nl_NL   81iZlv3bjpL  womens block heel shoes"
      ]
     },
     "execution_count": 9,
     "metadata": {},
     "output_type": "execute_result"
    }
   ],
   "source": [
    "product_info = []\n",
    "for i in range(len(text) - 1):\n",
    "    if text[i] != '':\n",
    "        text_0 = json.loads(text[i])\n",
    "        try:\n",
    "            for j in range(len(text_0['item_keywords'])):\n",
    "                product_info.append({'item_id': text_0['item_id'], \n",
    "                                     'product_type': text_0['product_type'][0]['value'],\n",
    "                                     'language': text_0['item_keywords'][0]['language_tag'],\n",
    "                                     'main_image_id': text_0['main_image_id'],\n",
    "                                     'item_keywords': text_0['item_keywords'][j]['value'].lower()})\n",
    "        except:\n",
    "            product_info.append({'item_id': text_0['item_id'], \n",
    "                                 'product_type': text_0['product_type'][0]['value'], \n",
    "                                 'language': '',\n",
    "                                 'main_image_id': '',\n",
    "                                 'item_keywords': ''})\n",
    "\n",
    "product_info = pd.DataFrame.from_dict(product_info)\n",
    "product_info.head()"
   ]
  },
  {
   "cell_type": "markdown",
   "metadata": {},
   "source": [
    "Below is a distribution for individual product categories."
   ]
  },
  {
   "cell_type": "code",
   "execution_count": 10,
   "metadata": {},
   "outputs": [
    {
     "data": {
      "text/plain": [
       "CELLULAR_PHONE_CASE           2149131\n",
       "SHOES                          200360\n",
       "FINENECKLACEBRACELETANKLET      54334\n",
       "GROCERY                         53915\n",
       "HOME                            40620\n",
       "                               ...   \n",
       "RUG_PAD                             1\n",
       "MICROWAVE_OVEN                      1\n",
       "VIDEO_DEVICE                        1\n",
       "SHELLFISH                           1\n",
       "SKATEBOARD                          1\n",
       "Name: product_type, Length: 497, dtype: int64"
      ]
     },
     "execution_count": 10,
     "metadata": {},
     "output_type": "execute_result"
    }
   ],
   "source": [
    "product_info['product_type'].value_counts()"
   ]
  },
  {
   "cell_type": "markdown",
   "metadata": {},
   "source": [
    "Step 2. Filter to product information data for Shoes."
   ]
  },
  {
   "cell_type": "code",
   "execution_count": 11,
   "metadata": {},
   "outputs": [
    {
     "name": "stdout",
     "output_type": "stream",
     "text": [
      "Number of listings: 2462\n",
      "Number of unique categories: 1091\n"
     ]
    }
   ],
   "source": [
    "product_info_shoes = product_info[(product_info['product_type'] == 'SHOES') & \n",
    "                                  (product_info['language'].apply(lambda x: x[:3]) == 'en_')]\n",
    "\n",
    "print('Number of listings: ' + str(len(product_info_shoes['item_id'].unique())))\n",
    "print('Number of unique categories: ' + str(len(product_info_shoes['item_keywords'].unique())))"
   ]
  },
  {
   "cell_type": "markdown",
   "metadata": {},
   "source": [
    "Step 3. One-hot encode each product keyword by transposing the product information data. "
   ]
  },
  {
   "cell_type": "code",
   "execution_count": 12,
   "metadata": {},
   "outputs": [
    {
     "name": "stderr",
     "output_type": "stream",
     "text": [
      "<ipython-input-12-8347df54b8b7>:1: SettingWithCopyWarning: \n",
      "A value is trying to be set on a copy of a slice from a DataFrame\n",
      "\n",
      "See the caveats in the documentation: https://pandas.pydata.org/pandas-docs/stable/user_guide/indexing.html#returning-a-view-versus-a-copy\n",
      "  product_info_shoes.drop_duplicates(['item_id', 'main_image_id', 'item_keywords'], inplace = True)\n",
      "<ipython-input-12-8347df54b8b7>:2: SettingWithCopyWarning: \n",
      "A value is trying to be set on a copy of a slice from a DataFrame.\n",
      "Try using .loc[row_indexer,col_indexer] = value instead\n",
      "\n",
      "See the caveats in the documentation: https://pandas.pydata.org/pandas-docs/stable/user_guide/indexing.html#returning-a-view-versus-a-copy\n",
      "  product_info_shoes['value'] = 1\n"
     ]
    }
   ],
   "source": [
    "product_info_shoes.drop_duplicates(['item_id', 'main_image_id', 'item_keywords'], inplace = True)\n",
    "product_info_shoes['value'] = 1\n",
    "product_info_shoes1 = product_info_shoes.pivot(index = ['item_id', 'main_image_id'], \n",
    "                                               columns = 'item_keywords', values = 'value')"
   ]
  },
  {
   "cell_type": "markdown",
   "metadata": {},
   "source": [
    "Step 4. Retrieve product images."
   ]
  },
  {
   "cell_type": "code",
   "execution_count": 13,
   "metadata": {},
   "outputs": [],
   "source": [
    "# Import the image mapping and merge to get paths to product images\n",
    "images_map = pd.read_csv('Data/Raw Data/images.csv')\n",
    "\n",
    "product_info_shoes2 = images_map.merge(product_info_shoes1, \n",
    "                                       left_on = 'image_id', right_on = 'main_image_id', how = 'right')\n",
    "\n",
    "# Retrieve product images\n",
    "reshape_imgs = []\n",
    "for i in range(len(product_info_shoes2)):\n",
    "    img = load_img('Data/abo-images-small/images/small/' + product_info_shoes2['path'][i])\n",
    "    reshape_img = img_to_array(img) \n",
    "    reshape_img = tf.image.resize(reshape_img, (64, 64)) / 255.0\n",
    "    reshape_imgs.append(reshape_img)\n",
    "\n",
    "reshape_imgs =  tf.convert_to_tensor(reshape_imgs)"
   ]
  },
  {
   "cell_type": "markdown",
   "metadata": {},
   "source": [
    "Step 5. Export the cleaned labels and product images."
   ]
  },
  {
   "cell_type": "code",
   "execution_count": 14,
   "metadata": {},
   "outputs": [],
   "source": [
    "# Export the cleaned labels\n",
    "product_info_shoes2.to_csv('Data/Data Used for Analysis/Cleaned Labels for Shoes.csv')\n",
    "\n",
    "# Export the product images\n",
    "with open('Data/Data Used for Analysis/Cleaned Images.pickle', 'wb') as handle:\n",
    "    pickle.dump(reshape_imgs, handle, protocol=pickle.HIGHEST_PROTOCOL)"
   ]
  },
  {
   "cell_type": "code",
   "execution_count": null,
   "metadata": {},
   "outputs": [],
   "source": []
  }
 ],
 "metadata": {
  "kernelspec": {
   "display_name": "Python 3",
   "language": "python",
   "name": "python3"
  },
  "language_info": {
   "codemirror_mode": {
    "name": "ipython",
    "version": 3
   },
   "file_extension": ".py",
   "mimetype": "text/x-python",
   "name": "python",
   "nbconvert_exporter": "python",
   "pygments_lexer": "ipython3",
   "version": "3.8.5"
  }
 },
 "nbformat": 4,
 "nbformat_minor": 4
}
