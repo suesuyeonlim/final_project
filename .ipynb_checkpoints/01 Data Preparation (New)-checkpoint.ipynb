{
 "cells": [
  {
   "cell_type": "markdown",
   "metadata": {},
   "source": [
    "# 01 Data Understanding & Preparation"
   ]
  },
  {
   "cell_type": "markdown",
   "metadata": {},
   "source": [
    "## I. Data Understanding\n",
    "### A. Reviews and Product Information for Pet Supplies\n",
    "\n",
    "The original data source is [Amazon Product Reviews from UCSD](https://cseweb.ucsd.edu/~jmcauley/datasets.html#amazon_reviews) for years 2001-2018. As seen below, most reviews are concentrated in the 2013-2018 period and the average rating is approximately 4 stars. I specifically focus on the Pet Supplies category.\n",
    "\n",
    "### A.1. Import and Dedup Reviews and Product Information Data"
   ]
  },
  {
   "cell_type": "code",
   "execution_count": 1,
   "metadata": {},
   "outputs": [],
   "source": [
    "# Import necessary libraries\n",
    "\n",
    "import pandas as pd\n",
    "import json\n",
    "import numpy as np\n",
    "import re\n",
    "import seaborn as sns\n",
    "import pandas.tseries\n",
    "import matplotlib.pyplot as plt\n",
    "from tensorflow.keras.preprocessing.image import ImageDataGenerator, array_to_img, img_to_array, load_img\n",
    "import pickle\n",
    "import tensorflow as tf"
   ]
  },
  {
   "cell_type": "code",
   "execution_count": 2,
   "metadata": {},
   "outputs": [
    {
     "data": {
      "text/html": [
       "<div>\n",
       "<style scoped>\n",
       "    .dataframe tbody tr th:only-of-type {\n",
       "        vertical-align: middle;\n",
       "    }\n",
       "\n",
       "    .dataframe tbody tr th {\n",
       "        vertical-align: top;\n",
       "    }\n",
       "\n",
       "    .dataframe thead th {\n",
       "        text-align: right;\n",
       "    }\n",
       "</style>\n",
       "<table border=\"1\" class=\"dataframe\">\n",
       "  <thead>\n",
       "    <tr style=\"text-align: right;\">\n",
       "      <th></th>\n",
       "      <th>overall</th>\n",
       "      <th>vote</th>\n",
       "      <th>verified</th>\n",
       "      <th>reviewTime</th>\n",
       "      <th>reviewerID</th>\n",
       "      <th>asin</th>\n",
       "      <th>reviewerName</th>\n",
       "      <th>reviewText</th>\n",
       "      <th>summary</th>\n",
       "      <th>unixReviewTime</th>\n",
       "      <th>style</th>\n",
       "      <th>image</th>\n",
       "    </tr>\n",
       "  </thead>\n",
       "  <tbody>\n",
       "    <tr>\n",
       "      <th>0</th>\n",
       "      <td>3.0</td>\n",
       "      <td>5</td>\n",
       "      <td>True</td>\n",
       "      <td>09 27, 2007</td>\n",
       "      <td>A13K4OZKAAHOXS</td>\n",
       "      <td>0972585419</td>\n",
       "      <td>100indecisions</td>\n",
       "      <td>Either my bird can't talk, or it really doesnt...</td>\n",
       "      <td>Still waiting for it to work...</td>\n",
       "      <td>1190851200</td>\n",
       "      <td>NaN</td>\n",
       "      <td>NaN</td>\n",
       "    </tr>\n",
       "    <tr>\n",
       "      <th>1</th>\n",
       "      <td>4.0</td>\n",
       "      <td>6</td>\n",
       "      <td>True</td>\n",
       "      <td>08 25, 2007</td>\n",
       "      <td>A1DWYEX4P7GB7Z</td>\n",
       "      <td>0972585419</td>\n",
       "      <td>J. Weaver</td>\n",
       "      <td>The CD is a good idea for teaching a bird to s...</td>\n",
       "      <td>Feathered Phonics volume 1</td>\n",
       "      <td>1188000000</td>\n",
       "      <td>NaN</td>\n",
       "      <td>NaN</td>\n",
       "    </tr>\n",
       "    <tr>\n",
       "      <th>2</th>\n",
       "      <td>4.0</td>\n",
       "      <td>5</td>\n",
       "      <td>True</td>\n",
       "      <td>02 20, 2007</td>\n",
       "      <td>A3NVN97YJSKEPC</td>\n",
       "      <td>0972585419</td>\n",
       "      <td>Theresa Ehrhardt</td>\n",
       "      <td>good cd to teach birds to talk and learn new w...</td>\n",
       "      <td>bird cd</td>\n",
       "      <td>1171929600</td>\n",
       "      <td>NaN</td>\n",
       "      <td>NaN</td>\n",
       "    </tr>\n",
       "    <tr>\n",
       "      <th>3</th>\n",
       "      <td>1.0</td>\n",
       "      <td>NaN</td>\n",
       "      <td>True</td>\n",
       "      <td>12 30, 2016</td>\n",
       "      <td>A1PDMES1LYA0DP</td>\n",
       "      <td>0972585419</td>\n",
       "      <td>Kathi</td>\n",
       "      <td>I was not happy with product would like to ret...</td>\n",
       "      <td>One Star</td>\n",
       "      <td>1483056000</td>\n",
       "      <td>NaN</td>\n",
       "      <td>NaN</td>\n",
       "    </tr>\n",
       "    <tr>\n",
       "      <th>4</th>\n",
       "      <td>1.0</td>\n",
       "      <td>NaN</td>\n",
       "      <td>True</td>\n",
       "      <td>12 23, 2016</td>\n",
       "      <td>AT6BH0TQLZS5X</td>\n",
       "      <td>0972585419</td>\n",
       "      <td>Alyssa</td>\n",
       "      <td>This cd is scratched and it constantly skips. ...</td>\n",
       "      <td>One Star</td>\n",
       "      <td>1482451200</td>\n",
       "      <td>NaN</td>\n",
       "      <td>NaN</td>\n",
       "    </tr>\n",
       "  </tbody>\n",
       "</table>\n",
       "</div>"
      ],
      "text/plain": [
       "   overall vote  verified   reviewTime      reviewerID        asin  \\\n",
       "0      3.0    5      True  09 27, 2007  A13K4OZKAAHOXS  0972585419   \n",
       "1      4.0    6      True  08 25, 2007  A1DWYEX4P7GB7Z  0972585419   \n",
       "2      4.0    5      True  02 20, 2007  A3NVN97YJSKEPC  0972585419   \n",
       "3      1.0  NaN      True  12 30, 2016  A1PDMES1LYA0DP  0972585419   \n",
       "4      1.0  NaN      True  12 23, 2016   AT6BH0TQLZS5X  0972585419   \n",
       "\n",
       "       reviewerName                                         reviewText  \\\n",
       "0    100indecisions  Either my bird can't talk, or it really doesnt...   \n",
       "1         J. Weaver  The CD is a good idea for teaching a bird to s...   \n",
       "2  Theresa Ehrhardt  good cd to teach birds to talk and learn new w...   \n",
       "3             Kathi  I was not happy with product would like to ret...   \n",
       "4            Alyssa  This cd is scratched and it constantly skips. ...   \n",
       "\n",
       "                           summary  unixReviewTime style image  \n",
       "0  Still waiting for it to work...      1190851200   NaN   NaN  \n",
       "1       Feathered Phonics volume 1      1188000000   NaN   NaN  \n",
       "2                          bird cd      1171929600   NaN   NaN  \n",
       "3                         One Star      1483056000   NaN   NaN  \n",
       "4                         One Star      1482451200   NaN   NaN  "
      ]
     },
     "execution_count": 2,
     "metadata": {},
     "output_type": "execute_result"
    }
   ],
   "source": [
    "# Import reviews and convert them to a Pandas dataframe.\n",
    "\n",
    "with open('Data/Pet_Supplies.json', 'r') as file:\n",
    "    text = file.read().split('\\n')\n",
    "    \n",
    "reviews = []\n",
    "for i in range(len(text) - 1):\n",
    "    reviews.append(json.loads(text[i]))\n",
    "reviews = pd.DataFrame.from_dict(reviews)\n",
    "reviews.head()"
   ]
  },
  {
   "cell_type": "code",
   "execution_count": 3,
   "metadata": {},
   "outputs": [
    {
     "data": {
      "text/html": [
       "<div>\n",
       "<style scoped>\n",
       "    .dataframe tbody tr th:only-of-type {\n",
       "        vertical-align: middle;\n",
       "    }\n",
       "\n",
       "    .dataframe tbody tr th {\n",
       "        vertical-align: top;\n",
       "    }\n",
       "\n",
       "    .dataframe thead th {\n",
       "        text-align: right;\n",
       "    }\n",
       "</style>\n",
       "<table border=\"1\" class=\"dataframe\">\n",
       "  <thead>\n",
       "    <tr style=\"text-align: right;\">\n",
       "      <th></th>\n",
       "      <th>category</th>\n",
       "      <th>tech1</th>\n",
       "      <th>description</th>\n",
       "      <th>fit</th>\n",
       "      <th>title</th>\n",
       "      <th>also_buy</th>\n",
       "      <th>tech2</th>\n",
       "      <th>brand</th>\n",
       "      <th>feature</th>\n",
       "      <th>rank</th>\n",
       "      <th>also_view</th>\n",
       "      <th>main_cat</th>\n",
       "      <th>similar_item</th>\n",
       "      <th>date</th>\n",
       "      <th>price</th>\n",
       "      <th>asin</th>\n",
       "      <th>imageURL</th>\n",
       "      <th>imageURLHighRes</th>\n",
       "      <th>details</th>\n",
       "    </tr>\n",
       "  </thead>\n",
       "  <tbody>\n",
       "    <tr>\n",
       "      <th>0</th>\n",
       "      <td>[Pet Supplies, Dogs, Health Supplies, Hip &amp;amp...</td>\n",
       "      <td></td>\n",
       "      <td>[Dr. Rexy hemp oil has powerful anti-inflammat...</td>\n",
       "      <td></td>\n",
       "      <td>DR.REXY Hemp Oil for Dogs and Cats - 100% Orga...</td>\n",
       "      <td>[]</td>\n",
       "      <td></td>\n",
       "      <td>DR.REXY</td>\n",
       "      <td>[Made strictly with organic derived ingredient...</td>\n",
       "      <td>[&gt;#93,463 in Grocery &amp;amp; Gourmet Food (See T...</td>\n",
       "      <td>[]</td>\n",
       "      <td>Amazon Home</td>\n",
       "      <td></td>\n",
       "      <td></td>\n",
       "      <td>$19.90</td>\n",
       "      <td>061539972X</td>\n",
       "      <td>[https://images-na.ssl-images-amazon.com/image...</td>\n",
       "      <td>[https://images-na.ssl-images-amazon.com/image...</td>\n",
       "      <td>NaN</td>\n",
       "    </tr>\n",
       "    <tr>\n",
       "      <th>1</th>\n",
       "      <td>[Pet Supplies, Dogs]</td>\n",
       "      <td></td>\n",
       "      <td>[Know exactly what your dog is eating with 101...</td>\n",
       "      <td></td>\n",
       "      <td>Pet Qwerks Treat Cookbook with Cutters</td>\n",
       "      <td>[]</td>\n",
       "      <td></td>\n",
       "      <td>Pet Qwerks</td>\n",
       "      <td>[Recipe book, Cookie cutters, Indoor/outdoor use]</td>\n",
       "      <td>190,234 in Pet Supplies (</td>\n",
       "      <td>[B075DYQ1PH, 1604334657, 1604336919, 163026043...</td>\n",
       "      <td>Pet Supplies</td>\n",
       "      <td></td>\n",
       "      <td></td>\n",
       "      <td>$7.86</td>\n",
       "      <td>0615553605</td>\n",
       "      <td>[https://images-na.ssl-images-amazon.com/image...</td>\n",
       "      <td>[https://images-na.ssl-images-amazon.com/image...</td>\n",
       "      <td>NaN</td>\n",
       "    </tr>\n",
       "    <tr>\n",
       "      <th>2</th>\n",
       "      <td>[Pet Supplies, Dogs, Food, Dry]</td>\n",
       "      <td></td>\n",
       "      <td>[, , , ]</td>\n",
       "      <td></td>\n",
       "      <td>The Best of 101 Dog Tricks</td>\n",
       "      <td>[0760339740, 1592533256, 1592535305, 159253730...</td>\n",
       "      <td></td>\n",
       "      <td></td>\n",
       "      <td>[]</td>\n",
       "      <td>76,847 in Movies &amp;amp; TV (</td>\n",
       "      <td>[1592533256, 0760339740, 1592537308, 159253530...</td>\n",
       "      <td>Movies &amp;amp; TV</td>\n",
       "      <td></td>\n",
       "      <td></td>\n",
       "      <td></td>\n",
       "      <td>0760339597</td>\n",
       "      <td>[https://images-na.ssl-images-amazon.com/image...</td>\n",
       "      <td>[https://images-na.ssl-images-amazon.com/image...</td>\n",
       "      <td>NaN</td>\n",
       "    </tr>\n",
       "    <tr>\n",
       "      <th>3</th>\n",
       "      <td>[]</td>\n",
       "      <td></td>\n",
       "      <td>[, The venomous but beautiful scorpionfishes a...</td>\n",
       "      <td></td>\n",
       "      <td>Lionfishes and Other Scorpionfishes: The Compl...</td>\n",
       "      <td>[1911142186, 1514291983]</td>\n",
       "      <td></td>\n",
       "      <td>Tfh/Nylabone</td>\n",
       "      <td>[Used Book in Good Condition]</td>\n",
       "      <td>435,039 in Pet Supplies (</td>\n",
       "      <td>[]</td>\n",
       "      <td>Pet Supplies</td>\n",
       "      <td></td>\n",
       "      <td></td>\n",
       "      <td>$24.99</td>\n",
       "      <td>0793816793</td>\n",
       "      <td>[https://images-na.ssl-images-amazon.com/image...</td>\n",
       "      <td>[https://images-na.ssl-images-amazon.com/image...</td>\n",
       "      <td>NaN</td>\n",
       "    </tr>\n",
       "    <tr>\n",
       "      <th>4</th>\n",
       "      <td>[Pet Supplies, Top Selection from AmazonPets]</td>\n",
       "      <td></td>\n",
       "      <td>[Volume 1: 96 Words &amp;amp; Phrases! This is the...</td>\n",
       "      <td></td>\n",
       "      <td>Pet Media Feathered Phonics The Easy Way To Te...</td>\n",
       "      <td>[B0002FP328, B0002FP32S, B0002FP32I, B00CAMARX...</td>\n",
       "      <td></td>\n",
       "      <td>Pet Media</td>\n",
       "      <td>[Award-winning audio CD teaches parrots how to...</td>\n",
       "      <td>52,435 in Pet Supplies (</td>\n",
       "      <td>[B0002FP328, B00CAMARXG, B0002FP32S, B0013L6CA...</td>\n",
       "      <td>Pet Supplies</td>\n",
       "      <td></td>\n",
       "      <td></td>\n",
       "      <td>$6.97</td>\n",
       "      <td>0972585419</td>\n",
       "      <td>[https://images-na.ssl-images-amazon.com/image...</td>\n",
       "      <td>[https://images-na.ssl-images-amazon.com/image...</td>\n",
       "      <td>NaN</td>\n",
       "    </tr>\n",
       "  </tbody>\n",
       "</table>\n",
       "</div>"
      ],
      "text/plain": [
       "                                            category tech1  \\\n",
       "0  [Pet Supplies, Dogs, Health Supplies, Hip &amp...         \n",
       "1                               [Pet Supplies, Dogs]         \n",
       "2                    [Pet Supplies, Dogs, Food, Dry]         \n",
       "3                                                 []         \n",
       "4      [Pet Supplies, Top Selection from AmazonPets]         \n",
       "\n",
       "                                         description fit  \\\n",
       "0  [Dr. Rexy hemp oil has powerful anti-inflammat...       \n",
       "1  [Know exactly what your dog is eating with 101...       \n",
       "2                                           [, , , ]       \n",
       "3  [, The venomous but beautiful scorpionfishes a...       \n",
       "4  [Volume 1: 96 Words &amp; Phrases! This is the...       \n",
       "\n",
       "                                               title  \\\n",
       "0  DR.REXY Hemp Oil for Dogs and Cats - 100% Orga...   \n",
       "1             Pet Qwerks Treat Cookbook with Cutters   \n",
       "2                         The Best of 101 Dog Tricks   \n",
       "3  Lionfishes and Other Scorpionfishes: The Compl...   \n",
       "4  Pet Media Feathered Phonics The Easy Way To Te...   \n",
       "\n",
       "                                            also_buy tech2         brand  \\\n",
       "0                                                 []             DR.REXY   \n",
       "1                                                 []          Pet Qwerks   \n",
       "2  [0760339740, 1592533256, 1592535305, 159253730...                       \n",
       "3                           [1911142186, 1514291983]        Tfh/Nylabone   \n",
       "4  [B0002FP328, B0002FP32S, B0002FP32I, B00CAMARX...           Pet Media   \n",
       "\n",
       "                                             feature  \\\n",
       "0  [Made strictly with organic derived ingredient...   \n",
       "1  [Recipe book, Cookie cutters, Indoor/outdoor use]   \n",
       "2                                                 []   \n",
       "3                      [Used Book in Good Condition]   \n",
       "4  [Award-winning audio CD teaches parrots how to...   \n",
       "\n",
       "                                                rank  \\\n",
       "0  [>#93,463 in Grocery &amp; Gourmet Food (See T...   \n",
       "1                          190,234 in Pet Supplies (   \n",
       "2                        76,847 in Movies &amp; TV (   \n",
       "3                          435,039 in Pet Supplies (   \n",
       "4                           52,435 in Pet Supplies (   \n",
       "\n",
       "                                           also_view         main_cat  \\\n",
       "0                                                 []      Amazon Home   \n",
       "1  [B075DYQ1PH, 1604334657, 1604336919, 163026043...     Pet Supplies   \n",
       "2  [1592533256, 0760339740, 1592537308, 159253530...  Movies &amp; TV   \n",
       "3                                                 []     Pet Supplies   \n",
       "4  [B0002FP328, B00CAMARXG, B0002FP32S, B0013L6CA...     Pet Supplies   \n",
       "\n",
       "  similar_item date   price        asin  \\\n",
       "0                    $19.90  061539972X   \n",
       "1                     $7.86  0615553605   \n",
       "2                            0760339597   \n",
       "3                    $24.99  0793816793   \n",
       "4                     $6.97  0972585419   \n",
       "\n",
       "                                            imageURL  \\\n",
       "0  [https://images-na.ssl-images-amazon.com/image...   \n",
       "1  [https://images-na.ssl-images-amazon.com/image...   \n",
       "2  [https://images-na.ssl-images-amazon.com/image...   \n",
       "3  [https://images-na.ssl-images-amazon.com/image...   \n",
       "4  [https://images-na.ssl-images-amazon.com/image...   \n",
       "\n",
       "                                     imageURLHighRes details  \n",
       "0  [https://images-na.ssl-images-amazon.com/image...     NaN  \n",
       "1  [https://images-na.ssl-images-amazon.com/image...     NaN  \n",
       "2  [https://images-na.ssl-images-amazon.com/image...     NaN  \n",
       "3  [https://images-na.ssl-images-amazon.com/image...     NaN  \n",
       "4  [https://images-na.ssl-images-amazon.com/image...     NaN  "
      ]
     },
     "execution_count": 3,
     "metadata": {},
     "output_type": "execute_result"
    }
   ],
   "source": [
    "# Import product information and convert them to a Pandas dataframe.\n",
    "\n",
    "with open('Data/meta_Pet_Supplies.json', 'r') as file:\n",
    "    text = file.read().split('\\n')\n",
    "    \n",
    "meta = []\n",
    "for i in range(len(text) - 1):\n",
    "    meta.append(json.loads(text[i]))\n",
    "meta = pd.DataFrame.from_dict(meta)\n",
    "meta.head()"
   ]
  },
  {
   "cell_type": "code",
   "execution_count": 4,
   "metadata": {},
   "outputs": [],
   "source": [
    "# Dedup reviews and product information.\n",
    "\n",
    "reviews.drop_duplicates(subset = ['asin', 'reviewerID'], inplace = True)\n",
    "meta.drop_duplicates(subset = ['asin'], inplace = True)"
   ]
  },
  {
   "cell_type": "markdown",
   "metadata": {},
   "source": [
    "### A.2. Data Summary"
   ]
  },
  {
   "cell_type": "markdown",
   "metadata": {},
   "source": [
    "The data consist of 6M reviews, 3M users, and 200K products."
   ]
  },
  {
   "cell_type": "code",
   "execution_count": 5,
   "metadata": {},
   "outputs": [
    {
     "name": "stdout",
     "output_type": "stream",
     "text": [
      "Number of reviews:  6254167\n",
      "Number of users:  3085591\n",
      "Number of items:  198265\n"
     ]
    }
   ],
   "source": [
    "# Calculate # of reviews, users, and items.\n",
    "\n",
    "print(\"Number of reviews: \", len(reviews))\n",
    "print(\"Number of users: \", len(reviews['reviewerID'].unique()))\n",
    "print(\"Number of items: \", len(meta))"
   ]
  },
  {
   "cell_type": "markdown",
   "metadata": {},
   "source": [
    "The rating distribution is as follows.  It is observed that 65% of ratings are 5-stars and approximately 75% are above 4-stars."
   ]
  },
  {
   "cell_type": "code",
   "execution_count": 6,
   "metadata": {},
   "outputs": [
    {
     "data": {
      "text/plain": [
       "5.0    0.635494\n",
       "4.0    0.129135\n",
       "1.0    0.098837\n",
       "3.0    0.079208\n",
       "2.0    0.057327\n",
       "Name: overall, dtype: float64"
      ]
     },
     "execution_count": 6,
     "metadata": {},
     "output_type": "execute_result"
    }
   ],
   "source": [
    "# Rating distribution\n",
    "\n",
    "reviews['overall'].value_counts(normalize = True)"
   ]
  },
  {
   "cell_type": "markdown",
   "metadata": {},
   "source": [
    "The number of ratings and the average monthly ratings are plotted below. Most reviews are concentrated in years 2013-2018, and the average monthly rating is 4 with little fluctuations."
   ]
  },
  {
   "cell_type": "code",
   "execution_count": 7,
   "metadata": {},
   "outputs": [
    {
     "data": {
      "image/png": "[encoded data removed]",
      "text/plain": [
       "<Figure size 1152x432 with 1 Axes>"
      ]
     },
     "metadata": {
      "needs_background": "light"
     },
     "output_type": "display_data"
    },
    {
     "data": {
      "image/png": "[encoded data removed]",
      "text/plain": [
       "<Figure size 1152x432 with 1 Axes>"
      ]
     },
     "metadata": {
      "needs_background": "light"
     },
     "output_type": "display_data"
    }
   ],
   "source": [
    "# Calculate average count & monthly ratings\n",
    "\n",
    "reviews['reviewTime'] = pd.to_datetime(reviews['reviewTime'], format = '%m %d, %Y')\n",
    "reviews.set_index('reviewTime', inplace = True)\n",
    "reviews_monthly = reviews[['overall']].resample('MS')\n",
    "reviews_monthly_mean = reviews_monthly.mean()\n",
    "\n",
    "# Plot count & monthly ratings\n",
    "\n",
    "reviews_monthly.count().plot(figsize = (16, 6));\n",
    "reviews_monthly_mean.plot(figsize = (16, 6));"
   ]
  },
  {
   "cell_type": "markdown",
   "metadata": {},
   "source": [
    "In terms of prices, the average price is \\\\\\$30, and 25th, 50th, and 75th percentiles are \\\\\\$10, \\\\\\$16, and \\\\\\$30 respectively."
   ]
  },
  {
   "cell_type": "code",
   "execution_count": 8,
   "metadata": {},
   "outputs": [
    {
     "data": {
      "text/plain": [
       "count    91760.000000\n",
       "mean        30.612318\n",
       "std         79.551115\n",
       "min          0.010000\n",
       "25%          9.790000\n",
       "50%         15.990000\n",
       "75%         29.782500\n",
       "max      14262.010000\n",
       "Name: price, dtype: float64"
      ]
     },
     "execution_count": 8,
     "metadata": {},
     "output_type": "execute_result"
    }
   ],
   "source": [
    "# Calculate summary stats for price\n",
    "\n",
    "prices = meta[(meta['price'].notnull()) & (meta['price'].apply(lambda x: re.search('\\\\$', x) is not None))]\n",
    "prices = prices['price'].apply(lambda x: float(x.split(' - ')[0].replace('$', '').replace(',', '')))\n",
    "\n",
    "prices.describe()"
   ]
  },
  {
   "cell_type": "markdown",
   "metadata": {},
   "source": [
    "### B. Product Images and Information for Shoes\n",
    "\n",
    "The original data source is [Amazon Berkeley Objects (\"ABO\") data](https://amazon-berkeley-objects.s3.amazonaws.com/index.html). The data contains images and tags (keywords that sellers post about the products) for various product categories. This project focuses on the Shoes category.\n",
    "\n",
    "### B.1. Import and Combine Listings Data"
   ]
  },
  {
   "cell_type": "code",
   "execution_count": 9,
   "metadata": {},
   "outputs": [
    {
     "data": {
      "text/plain": [
       "'{\"brand\": [{\"language_tag\": \"nl_NL\", \"value\": \"find.\"}], \"bullet_point\": [{\"language_tag\": \"nl_NL\", \"value\": \"Schoen in Loafer-stijl\"}, {\"language_tag\": \"nl_NL\", \"value\": \"Platform hak\"}, {\"language_tag\": \"nl_NL\", \"value\": \"Cap teen\"}, {\"language_tag\": \"nl_NL\", \"value\": \"Middenhak\"}], \"color\": [{\"language_tag\": \"nl_NL\", \"value\": \"Veelkleurig Vrouw Blauw\"}], \"item_id\": \"B06X9STHNG\", \"item_name\": [{\"language_tag\": \"nl_NL\", \"value\": \"Amazon-merk - vinden. Dames Leder Gesloten Teen Hakken,Veelkleurig Vrouw Blauw,5 UK\"}], \"model_name\": [{\"language_tag\": \"nl_NL\", \"value\": \"37753\"}], \"model_number\": [{\"value\": \"12-05-04\"}], \"model_year\": [{\"value\": 2017}], \"product_type\": [{\"value\": \"SHOES\"}], \"style\": [{\"language_tag\": \"nl_NL\", \"value\": \"Gesloten-teen pompen\"}], \"main_image_id\": \"81iZlv3bjpL\", \"other_image_id\": [\"91mIRxgziUL\", \"91eqBkW06wL\", \"A1BHZSKNbkL\"], \"item_keywords\": [{\"language_tag\": \"nl_NL\", \"value\": \"block heel shoes\"}, {\"language_tag\": \"nl_NL\", \"value\": \"loafer shoes\"}, {\"language_tag\": \"nl_NL\", \"value\": \"loafers\"}, {\"language_tag\": \"nl_NL\", \"value\": \"metallic shoes\"}, {\"language_tag\": \"nl_NL\", \"value\": \"womens block heel shoes\"}, {\"language_tag\": \"nl_NL\", \"value\": \"womens fashion\"}, {\"language_tag\": \"nl_NL\", \"value\": \"womens loafer shoes\"}, {\"language_tag\": \"nl_NL\", \"value\": \"womens loafers\"}, {\"language_tag\": \"nl_NL\", \"value\": \"womens shoes\"}, {\"language_tag\": \"nl_NL\", \"value\": \"womenswear\"}], \"country\": \"NL\", \"marketplace\": \"Amazon\", \"domain_name\": \"amazon.nl\", \"node\": [{\"node_id\": 16391787031, \"node_name\": \"/Categorie\\\\u00ebn/Dames/Schoenen/Pumps\"}]}'"
      ]
     },
     "execution_count": 9,
     "metadata": {},
     "output_type": "execute_result"
    }
   ],
   "source": [
    "# Import and combine listings data 0 to 9, a to f.\n",
    "\n",
    "text = []\n",
    "for i in range(10):\n",
    "    with open('Data/Raw Data/listings_0.json', 'r') as file:\n",
    "        text_intermediate = file.read().split('\\n')\n",
    "    text += text_intermediate\n",
    "    \n",
    "with open('Data/Raw Data/listings_a.json', 'r') as file:\n",
    "    text_a = file.read().split('\\n')\n",
    "        \n",
    "with open('Data/Raw Data/listings_b.json', 'r') as file:\n",
    "    text_b = file.read().split('\\n')\n",
    "    \n",
    "with open('Data/Raw Data/listings_c.json', 'r') as file:\n",
    "    text_c = file.read().split('\\n')\n",
    "    \n",
    "with open('Data/Raw Data/listings_d.json', 'r') as file:\n",
    "    text_d = file.read().split('\\n')\n",
    "    \n",
    "with open('Data/Raw Data/listings_e.json', 'r') as file:\n",
    "    text_e = file.read().split('\\n')\n",
    "    \n",
    "with open('Data/Raw Data/listings_f.json', 'r') as file:\n",
    "    text_f = file.read().split('\\n')\n",
    "    \n",
    "# Combine imported data\n",
    "text = text + text_a + text_b + text_c + text_d + text_e + text_f\n",
    "text[0]"
   ]
  },
  {
   "cell_type": "code",
   "execution_count": 10,
   "metadata": {},
   "outputs": [
    {
     "data": {
      "text/html": [
       "<div>\n",
       "<style scoped>\n",
       "    .dataframe tbody tr th:only-of-type {\n",
       "        vertical-align: middle;\n",
       "    }\n",
       "\n",
       "    .dataframe tbody tr th {\n",
       "        vertical-align: top;\n",
       "    }\n",
       "\n",
       "    .dataframe thead th {\n",
       "        text-align: right;\n",
       "    }\n",
       "</style>\n",
       "<table border=\"1\" class=\"dataframe\">\n",
       "  <thead>\n",
       "    <tr style=\"text-align: right;\">\n",
       "      <th></th>\n",
       "      <th>item_id</th>\n",
       "      <th>product_type</th>\n",
       "      <th>language</th>\n",
       "      <th>main_image_id</th>\n",
       "      <th>item_keywords</th>\n",
       "    </tr>\n",
       "  </thead>\n",
       "  <tbody>\n",
       "    <tr>\n",
       "      <th>0</th>\n",
       "      <td>B06X9STHNG</td>\n",
       "      <td>SHOES</td>\n",
       "      <td>nl_NL</td>\n",
       "      <td>81iZlv3bjpL</td>\n",
       "      <td>block heel shoes</td>\n",
       "    </tr>\n",
       "    <tr>\n",
       "      <th>1</th>\n",
       "      <td>B06X9STHNG</td>\n",
       "      <td>SHOES</td>\n",
       "      <td>nl_NL</td>\n",
       "      <td>81iZlv3bjpL</td>\n",
       "      <td>loafer shoes</td>\n",
       "    </tr>\n",
       "    <tr>\n",
       "      <th>2</th>\n",
       "      <td>B06X9STHNG</td>\n",
       "      <td>SHOES</td>\n",
       "      <td>nl_NL</td>\n",
       "      <td>81iZlv3bjpL</td>\n",
       "      <td>loafers</td>\n",
       "    </tr>\n",
       "    <tr>\n",
       "      <th>3</th>\n",
       "      <td>B06X9STHNG</td>\n",
       "      <td>SHOES</td>\n",
       "      <td>nl_NL</td>\n",
       "      <td>81iZlv3bjpL</td>\n",
       "      <td>metallic shoes</td>\n",
       "    </tr>\n",
       "    <tr>\n",
       "      <th>4</th>\n",
       "      <td>B06X9STHNG</td>\n",
       "      <td>SHOES</td>\n",
       "      <td>nl_NL</td>\n",
       "      <td>81iZlv3bjpL</td>\n",
       "      <td>womens block heel shoes</td>\n",
       "    </tr>\n",
       "  </tbody>\n",
       "</table>\n",
       "</div>"
      ],
      "text/plain": [
       "      item_id product_type language main_image_id            item_keywords\n",
       "0  B06X9STHNG        SHOES    nl_NL   81iZlv3bjpL         block heel shoes\n",
       "1  B06X9STHNG        SHOES    nl_NL   81iZlv3bjpL             loafer shoes\n",
       "2  B06X9STHNG        SHOES    nl_NL   81iZlv3bjpL                  loafers\n",
       "3  B06X9STHNG        SHOES    nl_NL   81iZlv3bjpL           metallic shoes\n",
       "4  B06X9STHNG        SHOES    nl_NL   81iZlv3bjpL  womens block heel shoes"
      ]
     },
     "execution_count": 10,
     "metadata": {},
     "output_type": "execute_result"
    }
   ],
   "source": [
    "# Import product info data and convert it to a Pandas dataframe.\n",
    "\n",
    "product_info = []\n",
    "for i in range(len(text) - 1):\n",
    "    if text[i] != '':\n",
    "        text_0 = json.loads(text[i])\n",
    "        try:\n",
    "            for j in range(len(text_0['item_keywords'])):\n",
    "                product_info.append({'item_id': text_0['item_id'], \n",
    "                                     'product_type': text_0['product_type'][0]['value'],\n",
    "                                     'language': text_0['item_keywords'][0]['language_tag'],\n",
    "                                     'main_image_id': text_0['main_image_id'],\n",
    "                                     'item_keywords': text_0['item_keywords'][j]['value'].lower()})\n",
    "        except:\n",
    "            product_info.append({'item_id': text_0['item_id'], \n",
    "                                 'product_type': text_0['product_type'][0]['value'], \n",
    "                                 'language': '',\n",
    "                                 'main_image_id': '',\n",
    "                                 'item_keywords': ''})\n",
    "\n",
    "product_info = pd.DataFrame.from_dict(product_info)\n",
    "product_info.head()"
   ]
  },
  {
   "cell_type": "code",
   "execution_count": 11,
   "metadata": {},
   "outputs": [],
   "source": [
    "# Dedup the product info data\n",
    "\n",
    "product_info.drop_duplicates(inplace = True)"
   ]
  },
  {
   "cell_type": "markdown",
   "metadata": {},
   "source": [
    "### Step 2. Data Summary"
   ]
  },
  {
   "cell_type": "markdown",
   "metadata": {},
   "source": [
    "Below is a distribution for individual product categories. There are 5,447 listings and 30,936 tags for Shoes Category."
   ]
  },
  {
   "cell_type": "code",
   "execution_count": 12,
   "metadata": {},
   "outputs": [
    {
     "name": "stdout",
     "output_type": "stream",
     "text": [
      "# of All Products:  64207\n"
     ]
    },
    {
     "data": {
      "text/plain": [
       "CELLULAR_PHONE_CASE            28474\n",
       "SHOES                           5447\n",
       "GROCERY                         2830\n",
       "HOME                            2311\n",
       "HOME_BED_AND_BATH               1326\n",
       "                               ...  \n",
       "GPS_OR_NAVIGATION_ACCESSORY        1\n",
       "ANIMAL_LITTER                      1\n",
       "VINE                               1\n",
       "SLOW_COOKER                        1\n",
       "TELEVISION                         1\n",
       "Name: product_type, Length: 524, dtype: int64"
      ]
     },
     "execution_count": 12,
     "metadata": {},
     "output_type": "execute_result"
    }
   ],
   "source": [
    "items_list = product_info.drop_duplicates('item_id')\n",
    "\n",
    "print(\"# of All Products: \", len(items_list))\n",
    "\n",
    "items_list['product_type'].value_counts()"
   ]
  },
  {
   "cell_type": "code",
   "execution_count": 13,
   "metadata": {},
   "outputs": [
    {
     "data": {
      "text/plain": [
       "CELLULAR_PHONE_CASE        363617\n",
       "SHOES                       30936\n",
       "CHAIR                       18371\n",
       "GROCERY                     15763\n",
       "HOME                        14557\n",
       "                            ...  \n",
       "WRITING_PAPER                   1\n",
       "GAME_DICE                       1\n",
       "COUNTERTOP_BURNER               1\n",
       "AMAZON_TABLET_ACCESSORY         1\n",
       "VEHICLE_LIGHT_ASSEMBLY          1\n",
       "Name: product_type, Length: 524, dtype: int64"
      ]
     },
     "execution_count": 13,
     "metadata": {},
     "output_type": "execute_result"
    }
   ],
   "source": [
    "product_info['product_type'].value_counts()"
   ]
  },
  {
   "cell_type": "markdown",
   "metadata": {},
   "source": [
    "## II. Data Preparation\n",
    "### A. Reviews and Product Information for Pet Supplies\n",
    "\n",
    "I filter to users and products with enough reviews for credibility and ease of manipulation. Specifically, I filter to users with at least 20 reviews and products with 100 reviews."
   ]
  },
  {
   "cell_type": "code",
   "execution_count": 14,
   "metadata": {},
   "outputs": [],
   "source": [
    "# Rename the column names\n",
    "\n",
    "reviews1 = reviews.reset_index()[['asin', 'reviewerID', 'overall', 'reviewTime', 'summary', 'vote', 'reviewText']]\n",
    "reviews1.columns = ['itemId', 'userId', 'rating', 'time', 'summary', 'vote', 'reviewText']\n",
    "\n",
    "# Merge reviews and product information\n",
    "\n",
    "reviews2 = reviews1.merge(meta, left_on = 'itemId', right_on = 'asin')\n",
    "\n",
    "# Filter to products with price information\n",
    "\n",
    "reviews2 = reviews2[(reviews2['price'].notnull()) & \n",
    "                    (reviews2['price'].apply(lambda x: re.search('\\\\$', x) is not None))]\n",
    "reviews2['price'] = reviews2['price'].apply(lambda x: float(x.split(' - ')[0].replace('$', '').replace(',', '')))\n",
    "\n",
    "# Filter to items with at least 100 reviews\n",
    "\n",
    "reviews_mult = reviews2.groupby('itemId')['itemId'].count() >= 100\n",
    "reviews_mult = reviews_mult[reviews_mult == True]\n",
    "reviews2 = reviews2[reviews2['itemId'].isin(reviews_mult.index)]\n",
    "\n",
    "# Filter to users with at least 20 reviews\n",
    "\n",
    "reviews_mult = reviews2.groupby('userId')['userId'].count() >= 20\n",
    "reviews_mult = reviews_mult[reviews_mult == True]\n",
    "reviews3 = reviews2[reviews2['userId'].isin(reviews_mult.index)].copy()"
   ]
  },
  {
   "cell_type": "code",
   "execution_count": 15,
   "metadata": {},
   "outputs": [],
   "source": [
    "# Generate numeric indices for users and products. These will be used for neural networks later.\n",
    "\n",
    "users = reviews3['userId'].unique()\n",
    "books = reviews3['itemId'].unique()\n",
    "\n",
    "userid2idx = {o: i for i, o in enumerate(users)}\n",
    "bookid2idx = {o: i for i, o in enumerate(books)}\n",
    "reviews3.loc[:, 'userIdNumeric'] = reviews3.loc[:, 'userId'].apply(lambda x: userid2idx[x])\n",
    "reviews3.loc[:, 'itemIdNumeric'] = reviews3.loc[:, 'itemId'].apply(lambda x: bookid2idx[x])"
   ]
  },
  {
   "cell_type": "code",
   "execution_count": 16,
   "metadata": {},
   "outputs": [
    {
     "name": "stdout",
     "output_type": "stream",
     "text": [
      "Number of reviews:  90919\n",
      "Number of users:  3284\n",
      "Number of items:  7934\n"
     ]
    }
   ],
   "source": [
    "# Export the data for analysis.\n",
    "\n",
    "reviews3.to_csv('Data/Data Used for Analysis/Cleaned Reviews for Pet Supplies.csv')\n",
    "\n",
    "print(\"Number of reviews: \", len(reviews3))\n",
    "print(\"Number of users: \", len(reviews3['userId'].unique()))\n",
    "print(\"Number of items: \", len(reviews3['itemId'].unique()))"
   ]
  },
  {
   "cell_type": "markdown",
   "metadata": {},
   "source": [
    "## B. Product Images and Information for Shoes"
   ]
  },
  {
   "cell_type": "markdown",
   "metadata": {},
   "source": [
    "In this project, I do the demonstration using the Shoes category only and tags in English."
   ]
  },
  {
   "cell_type": "code",
   "execution_count": 23,
   "metadata": {},
   "outputs": [
    {
     "name": "stdout",
     "output_type": "stream",
     "text": [
      "Number of listings: 3337\n",
      "Number of unique categories: 26713\n",
      "Number of unique categories: 1277\n"
     ]
    }
   ],
   "source": [
    "# Filter to product information data for Shoes and keywords in English\n",
    "\n",
    "product_info_shoes = product_info[(product_info['product_type'] == 'SHOES') & \n",
    "                                  (product_info['language'].apply(lambda x: x[:3]) == 'en_')]\n",
    "\n",
    "print('Number of listings: ' + str(len(product_info_shoes['item_id'].unique())))\n",
    "print('Number of unique categories: ' + str(len(product_info_shoes)))\n",
    "print('Number of unique categories: ' + str(len(product_info_shoes['item_keywords'].unique())))"
   ]
  },
  {
   "cell_type": "code",
   "execution_count": 20,
   "metadata": {},
   "outputs": [],
   "source": [
    "# One-hot encode each product keyword by transposing the product information data\n",
    "\n",
    "product_info_shoes.drop_duplicates(['item_id', 'main_image_id', 'item_keywords']).\\\n",
    "reset_index(drop = True, inplace = True)\n",
    "product_info_shoes.loc[:, 'value'] = 1\n",
    "product_info_shoes1 = product_info_shoes.pivot(index = ['item_id', 'main_image_id'], \n",
    "                                               columns = 'item_keywords', values = 'value')"
   ]
  },
  {
   "cell_type": "code",
   "execution_count": 21,
   "metadata": {},
   "outputs": [],
   "source": [
    "# Step 4. Retrieve product images.\n",
    "\n",
    "# Import the image mapping and merge to get paths to product images\n",
    "\n",
    "images_map = pd.read_csv('Data/Raw Data/images.csv')\n",
    "\n",
    "product_info_shoes2 = images_map.merge(product_info_shoes1, \n",
    "                                       left_on = 'image_id', right_on = 'main_image_id', how = 'right')\n",
    "\n",
    "# Retrieve product images\n",
    "\n",
    "reshape_imgs = []\n",
    "for i in range(len(product_info_shoes2)):\n",
    "    img = load_img('Data/abo-images-small/images/small/' + product_info_shoes2['path'][i])\n",
    "    reshape_img = img_to_array(img) \n",
    "    reshape_img = tf.image.resize(reshape_img, (64, 64)) / 255.0\n",
    "    reshape_imgs.append(reshape_img)\n",
    "\n",
    "reshape_imgs =  tf.convert_to_tensor(reshape_imgs)"
   ]
  },
  {
   "cell_type": "code",
   "execution_count": 22,
   "metadata": {},
   "outputs": [],
   "source": [
    "# Export the cleaned labels\n",
    "\n",
    "product_info_shoes2.to_csv('Data/Data Used for Analysis/Cleaned Labels for Shoes.csv')\n",
    "\n",
    "# Export the product images\n",
    "\n",
    "with open('Data/Data Used for Analysis/Cleaned Images.pickle', 'wb') as handle:\n",
    "    pickle.dump(reshape_imgs, handle, protocol=pickle.HIGHEST_PROTOCOL)"
   ]
  },
  {
   "cell_type": "code",
   "execution_count": null,
   "metadata": {},
   "outputs": [],
   "source": []
  }
 ],
 "metadata": {
  "kernelspec": {
   "display_name": "Python 3",
   "language": "python",
   "name": "python3"
  },
  "language_info": {
   "codemirror_mode": {
    "name": "ipython",
    "version": 3
   },
   "file_extension": ".py",
   "mimetype": "text/x-python",
   "name": "python",
   "nbconvert_exporter": "python",
   "pygments_lexer": "ipython3",
   "version": "3.8.5"
  }
 },
 "nbformat": 4,
 "nbformat_minor": 4
}
